{
 "cells": [
  {
   "cell_type": "markdown",
   "metadata": {},
   "source": [
    "# Harmony workflow\n",
    "\n",
    "This notebook replicates the workflow to retrieve subsetted ATL06 (v006) data using Harmony (via [harmony-py](https://github.com/nasa/harmony-py)) to fulfil the subsetting request).\n",
    "\n",
    "## Required packages:\n",
    "\n",
    "* notebook\n",
    "* pyproj\n",
    "* numpy\n",
    "* harmony-py\n",
    "\n",
    "## Other requirements:\n",
    "\n",
    "A `.netrc` file with credentials for Earthdata Login (production).\n",
    "\n",
    "## Optional - install packages:"
   ]
  },
  {
   "cell_type": "code",
   "execution_count": null,
   "metadata": {
    "scrolled": true
   },
   "outputs": [],
   "source": [
    "!pip install notebook harmony-py pyproj numpy"
   ]
  },
  {
   "cell_type": "code",
   "execution_count": null,
   "metadata": {},
   "outputs": [],
   "source": [
    "from datetime import datetime\n",
    "\n",
    "import numpy as np\n",
    "from harmony import BBox, Client, Collection, Environment, Request\n",
    "from pyproj import CRS, Transformer"
   ]
  },
  {
   "cell_type": "markdown",
   "metadata": {},
   "source": [
    "The cell below is a lightly edited version of the one provided from [here](https://github.com/ICESAT-2HackWeek/icesat2-cookbook/blob/main/notebooks/draft/workflows/greenland_dhdt/dhdt_40km_tile.ipynb)."
   ]
  },
  {
   "cell_type": "code",
   "execution_count": null,
   "metadata": {},
   "outputs": [],
   "source": [
    "%%time\n",
    "\n",
    "# Bounding box information:\n",
    "\n",
    "# Lower left corner:\n",
    "xy0 = [0., -3.0e6]\n",
    "\n",
    "# CRS of source data:\n",
    "crs = 3413\n",
    "\n",
    "# Padding width\n",
    "width = 4.e4\n",
    "\n",
    "pad = np.array([-width / 2, width / 2])\n",
    "\n",
    "# Generate bounding box in projected metres:\n",
    "bbox_projected = [xy0[0] + pad[[0, 1, 1, 0, 0]], xy0[1] + pad[[0, 0, 1, 1, 0]]]\n",
    "\n",
    "# Generate a clipping polygon in lat/lon CRS\n",
    "polygon_geographic = Transformer.from_crs(CRS(crs), CRS(4326)).transform(*bbox_projected)"
   ]
  },
  {
   "cell_type": "markdown",
   "metadata": {},
   "source": [
    "## Generate variable list:"
   ]
  },
  {
   "cell_type": "code",
   "execution_count": null,
   "metadata": {},
   "outputs": [],
   "source": [
    "%%time\n",
    "\n",
    "base_variable_names = [\n",
    "    'land_ice_segments/h_li',\n",
    "    'land_ice_segments/fit_statistics/n_fit_photons',\n",
    "    'land_ice_segments/fit_statistics/dh_fit_dx',\n",
    "    'land_ice_segments/fit_statistics/w_surface_window_final',\n",
    "    'land_ice_segments/atl06_quality_summary',\n",
    "    'land_ice_segments/geophysical/bsnow_conf',\n",
    "    'land_ice_segments/h_li_sigma',\n",
    "    'land_ice_segments/geophysical/r_eff',\n",
    "    'land_ice_segments/geophysical/bsnow_h',\n",
    "    'land_ice_segments/geophysical/tide_ocean',\n",
    "    'land_ice_segments/ground_track/x_atc',\n",
    "    'land_ice_segments/fit_statistics/h_robust_sprd',\n",
    "    'land_ice_segments/segment_id',\n",
    "    'land_ice_segments/ground_track/y_atc',\n",
    "    'land_ice_segments/ground_track/seg_azimuth',\n",
    "    'land_ice_segments/sigma_geo_h',\n",
    "    'land_ice_segments/delta_time',\n",
    "    'land_ice_segments/latitude',\n",
    "    'land_ice_segments/longitude',\n",
    "]\n",
    "\n",
    "ground_tracks = ['gt1l', 'gt1r', 'gt2l', 'gt2r', 'gt3l', 'gt3r']\n",
    "\n",
    "all_variables = [\n",
    "    '/'.join([ground_track, base_variable_name])\n",
    "    for ground_track in ground_tracks\n",
    "    for base_variable_name in base_variable_names\n",
    "]"
   ]
  },
  {
   "cell_type": "markdown",
   "metadata": {},
   "source": [
    "## Run the Harmony request to process the data\n",
    "\n",
    "Note - NSIDC has not populated UMM-Var records, so this does not do variable subsetting. (The option for that is commented out)"
   ]
  },
  {
   "cell_type": "code",
   "execution_count": null,
   "metadata": {},
   "outputs": [],
   "source": [
    "%%time\n",
    "\n",
    "atl03_concept_id = 'C2670138092-NSIDC_CPRD'\n",
    "start_datetime = datetime.fromisoformat('2018-10-13T00:00:00Z')\n",
    "stop_datetime = datetime.fromisoformat('2025-10-13T00:00:00Z')\n",
    "\n",
    "harmony_client = Client(env=Environment.PROD)\n",
    "\n",
    "harmony_request = Request(\n",
    "    collection=Collection(id=atl03_concept_id),\n",
    "    spatial=BBox(\n",
    "        w=min(polygon_geographic[1]),\n",
    "        s=min(polygon_geographic[0]),\n",
    "        e=max(polygon_geographic[1]),\n",
    "        n=max(polygon_geographic[0]),\n",
    "    ),\n",
    "    temporal={'start': start_datetime, 'stop': stop_datetime},\n",
    "    # variables=all_variables,\n",
    "    max_results=5,  # To allow the job to complete. Really there are 214 matching granules\n",
    ")\n",
    "\n",
    "harmony_job_id = harmony_client.submit(harmony_request)\n",
    "harmony_client.wait_for_processing(harmony_job_id, show_progress=True)"
   ]
  },
  {
   "cell_type": "markdown",
   "metadata": {},
   "source": [
    "## Quick stats:\n",
    "\n",
    "Individual granule takes about 10 - 15 seconds to process - 2 - 5 seconds to download granule to Harmony Docker container. The rest of the time is processing and staging the output. (The processing will be quicker with variable subsetting, as less of the file is spatially subsetted and staged to the output location)\n",
    "\n",
    "Wall time of 7 minutes 23 seconds: 7 granules processed. 3 had no data. Maybe one more in progress. Rest not started.\n",
    "\n",
    "Second run (max results = 5):\n",
    "\n",
    "```\n",
    "CPU times: user 1.44 s, sys: 679 ms, total: 2.12 s\n",
    "Wall time: 3min 13s\n",
    "```\n",
    "\n",
    "But there's a possibility that Harmony has cached some of the output from the first time, and so was quicker.\n",
    "\n",
    "Third run: parallelism of Harmony seemed to kick in this time (first two attempts ran one granule at a time). Total time spent by Harmony:\n",
    "\n",
    "```\n",
    "\"createdAt\": \"2025-08-20T20:19:37.002Z\",\n",
    "\"updatedAt\": \"2025-08-20T20:23:45.790Z\",\n",
    "```\n",
    "\n",
    "So - total time: 4 minutes 8 seconds."
   ]
  },
  {
   "cell_type": "markdown",
   "metadata": {},
   "source": [
    "## Download all the results"
   ]
  },
  {
   "cell_type": "code",
   "execution_count": null,
   "metadata": {},
   "outputs": [],
   "source": [
    "harmony_job_id = '01534ac9-7a32-4c49-ac22-ac427f34af7f'\n",
    "harmony_client = Client(env=Environment.PROD)"
   ]
  },
  {
   "cell_type": "code",
   "execution_count": null,
   "metadata": {},
   "outputs": [],
   "source": [
    "%%time\n",
    "\n",
    "downloaded_files = [\n",
    "    file_future.result()\n",
    "    for file_future in harmony_client.download_all(harmony_job_id, overwrite=True)\n",
    "]\n",
    "\n",
    "print(downloaded_files)"
   ]
  },
  {
   "cell_type": "markdown",
   "metadata": {},
   "source": [
    "## Quick stats:\n",
    "\n",
    "```\n",
    "CPU times: user 120 ms, sys: 164 ms, total: 284 ms\n",
    "Wall time: 40.7 s\n",
    "```\n",
    "\n",
    "Approx. 10 seconds per download. Although, that is for outputs with all variables. So likely can gain a factor of 2 or 3 with variable subsetting."
   ]
  }
 ],
 "metadata": {
  "kernelspec": {
   "display_name": "Python 3 (ipykernel)",
   "language": "python",
   "name": "python3"
  },
  "language_info": {
   "codemirror_mode": {
    "name": "ipython",
    "version": 3
   },
   "file_extension": ".py",
   "mimetype": "text/x-python",
   "name": "python",
   "nbconvert_exporter": "python",
   "pygments_lexer": "ipython3",
   "version": "3.12.11"
  }
 },
 "nbformat": 4,
 "nbformat_minor": 4
}
